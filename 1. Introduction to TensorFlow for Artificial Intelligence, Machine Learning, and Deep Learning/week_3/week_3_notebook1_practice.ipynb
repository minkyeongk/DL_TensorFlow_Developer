{
  "nbformat": 4,
  "nbformat_minor": 0,
  "metadata": {
    "colab": {
      "name": "week_3_notebook1_practice.ipynb",
      "provenance": [],
      "authorship_tag": "ABX9TyNiQzxnB0PHPerrEcvQW6+I",
      "include_colab_link": true
    },
    "kernelspec": {
      "name": "python3",
      "display_name": "Python 3"
    }
  },
  "cells": [
    {
      "cell_type": "markdown",
      "metadata": {
        "id": "view-in-github",
        "colab_type": "text"
      },
      "source": [
        "<a href=\"https://colab.research.google.com/github/minkyeongk/DL_TensorFlow_Developer/blob/main/1.%20Introduction%20to%20TensorFlow%20for%20Artificial%20Intelligence%2C%20Machine%20Learning%2C%20and%20Deep%20Learning/week_3/week_3_notebook1_practice.ipynb\" target=\"_parent\"><img src=\"https://colab.research.google.com/assets/colab-badge.svg\" alt=\"Open In Colab\"/></a>"
      ]
    },
    {
      "cell_type": "markdown",
      "metadata": {
        "id": "fyKY8JWODrsU"
      },
      "source": [
        "#Improving Computer Vision Accuracy using Convolutions"
      ]
    },
    {
      "cell_type": "code",
      "metadata": {
        "colab": {
          "base_uri": "https://localhost:8080/"
        },
        "id": "3X29T8sSDiYf",
        "outputId": "c04d1009-d7ff-4b45-c4b5-e05dfadf362f"
      },
      "source": [
        "# 저번 시간 DNN 코드 복습, 성능 확인 \r\n",
        "import tensorflow as tf \r\n",
        "mnist = tf.keras.datasets.fashion_mnist\r\n",
        "(train_imgs, train_labels), (test_imgs, test_labels) = mnist.load_data()\r\n",
        "train_imgs = train_imgs / 255.0\r\n",
        "test_imgs = test_imgs / 255.0\r\n",
        "\r\n",
        "model = tf.keras.models.Sequential([tf.keras.layers.Flatten(),\r\n",
        "                                    tf.keras.layers.Dense(128, activation=tf.nn.relu),\r\n",
        "                                    tf.keras.layers.Dense(10, activation=tf.nn.softmax)])\r\n",
        "\r\n",
        "model.compile(optimizer = 'adam', loss = 'sparse_categorical_crossentropy', metrics=['accuracy'])\r\n",
        "model.fit(train_imgs, train_labels, epochs=5)\r\n",
        "\r\n",
        "test_loss = model.evaluate(test_imgs, test_labels)\r\n",
        "# 정확도 87 ~ 88%\r\n",
        "# train set에 비해 test set에서 낮은 정확도를 보임"
      ],
      "execution_count": 4,
      "outputs": [
        {
          "output_type": "stream",
          "text": [
            "Epoch 1/5\n",
            "1875/1875 [==============================] - 3s 1ms/step - loss: 0.6370 - accuracy: 0.7809\n",
            "Epoch 2/5\n",
            "1875/1875 [==============================] - 3s 1ms/step - loss: 0.3843 - accuracy: 0.8609\n",
            "Epoch 3/5\n",
            "1875/1875 [==============================] - 3s 1ms/step - loss: 0.3421 - accuracy: 0.8741\n",
            "Epoch 4/5\n",
            "1875/1875 [==============================] - 3s 2ms/step - loss: 0.3167 - accuracy: 0.8825\n",
            "Epoch 5/5\n",
            "1875/1875 [==============================] - 3s 1ms/step - loss: 0.3012 - accuracy: 0.8894\n",
            "313/313 [==============================] - 0s 933us/step - loss: 0.3513 - accuracy: 0.8736\n"
          ],
          "name": "stdout"
        }
      ]
    },
    {
      "cell_type": "markdown",
      "metadata": {
        "id": "liDETXjyFnhG"
      },
      "source": [
        "#Convolutional Neural Networks\r\n",
        "\r\n",
        "convolution before dense layer\r\n",
        "> more focused imformation will go to dense layer (something like filter on image processing) "
      ]
    },
    {
      "cell_type": "code",
      "metadata": {
        "colab": {
          "base_uri": "https://localhost:8080/"
        },
        "id": "8-iwIqHLGDWw",
        "outputId": "d48aff47-3e58-40cd-e669-6d0fcd907cbc"
      },
      "source": [
        "import tensorflow as tf \r\n",
        "print(tf.__version__)\r\n",
        "\r\n",
        "mnist = tf.keras.datasets.fashion_mnist\r\n",
        "(train_imgs, train_labels), (test_imgs, test_labels) = mnist.load_data()\r\n",
        "\r\n",
        "# why reshape?\r\n",
        "# first convolution expects a single tensor containing everything\r\n",
        "# so instead of 60,000 28x28x1 items in a list, a single 4D list that is 60,000x28x28x1\r\n",
        "train_imgs = train_imgs.reshape(60000, 28, 28, 1)   \r\n",
        "train_imgs = train_imgs / 255.0\r\n",
        "test_imgs = test_imgs.reshape(10000, 28, 28, 1)\r\n",
        "test_imgs = test_imgs / 255.0\r\n",
        "\r\n",
        "model = tf.keras.Sequential(\r\n",
        "     # convolution(filter) 개수: 64개 / convolution size: 3*3 / 첫번째 레이어의 경우 input shape까지 \r\n",
        "    [tf.keras.layers.Conv2D(64, (3,3), activation='relu', input_shape=(28,28,1)), \r\n",
        "     tf.keras.layers.MaxPool2D(2,2),\r\n",
        "     tf.keras.layers.Conv2D(64, (3,3), activation='relu'),\r\n",
        "     tf.keras.layers.MaxPool2D(2,2),\r\n",
        "     tf.keras.layers.Flatten(),\r\n",
        "     tf.keras.layers.Dense(128, activation='relu'),\r\n",
        "     tf.keras.layers.Dense(10, activation='softmax')])\r\n",
        "\r\n",
        "model.compile(optimizer='adam', loss='sparse_categorical_crossentropy', metrics=['accuracy'])\r\n",
        "model.summary()   # network의 size와 shape 출력 \r\n",
        "model.fit(train_imgs, train_labels, epochs=5)\r\n",
        "test_loss = model.evaluate(test_imgs, test_labels)\r\n"
      ],
      "execution_count": 10,
      "outputs": [
        {
          "output_type": "stream",
          "text": [
            "2.4.0\n",
            "Model: \"sequential_5\"\n",
            "_________________________________________________________________\n",
            "Layer (type)                 Output Shape              Param #   \n",
            "=================================================================\n",
            "conv2d_6 (Conv2D)            (None, 26, 26, 64)        640       \n",
            "_________________________________________________________________\n",
            "max_pooling2d_6 (MaxPooling2 (None, 13, 13, 64)        0         \n",
            "_________________________________________________________________\n",
            "conv2d_7 (Conv2D)            (None, 11, 11, 64)        36928     \n",
            "_________________________________________________________________\n",
            "max_pooling2d_7 (MaxPooling2 (None, 5, 5, 64)          0         \n",
            "_________________________________________________________________\n",
            "flatten_6 (Flatten)          (None, 1600)              0         \n",
            "_________________________________________________________________\n",
            "dense_11 (Dense)             (None, 128)               204928    \n",
            "_________________________________________________________________\n",
            "dense_12 (Dense)             (None, 10)                1290      \n",
            "=================================================================\n",
            "Total params: 243,786\n",
            "Trainable params: 243,786\n",
            "Non-trainable params: 0\n",
            "_________________________________________________________________\n",
            "Epoch 1/5\n",
            "1875/1875 [==============================] - 74s 39ms/step - loss: 0.5963 - accuracy: 0.7854\n",
            "Epoch 2/5\n",
            "1875/1875 [==============================] - 75s 40ms/step - loss: 0.3042 - accuracy: 0.8886\n",
            "Epoch 3/5\n",
            "1875/1875 [==============================] - 74s 39ms/step - loss: 0.2501 - accuracy: 0.9059\n",
            "Epoch 4/5\n",
            "1875/1875 [==============================] - 73s 39ms/step - loss: 0.2197 - accuracy: 0.9172\n",
            "Epoch 5/5\n",
            "1875/1875 [==============================] - 72s 38ms/step - loss: 0.1960 - accuracy: 0.9268\n",
            "313/313 [==============================] - 3s 10ms/step - loss: 0.2647 - accuracy: 0.9046\n"
          ],
          "name": "stdout"
        }
      ]
    },
    {
      "cell_type": "markdown",
      "metadata": {
        "id": "bhkPzwrALAo9"
      },
      "source": [
        "DNN에 비해 정확도 상승 (90 ~ 92%)\r\n",
        "\r\n",
        "epoch 필요 이상으로 늘릴 경우 overfitting 발생할 수 있음\r\n",
        "\r\n",
        "\r\n",
        "overfitting은 네트워크가 training set의 데이터에만 특정되게 학습하여 다음 데이터에서 낮은 효율성을 보이는 경우를 뜻 함 "
      ]
    },
    {
      "cell_type": "markdown",
      "metadata": {
        "id": "_mMHQ1UCeeSZ"
      },
      "source": [
        "# Visualizing the Convolutions and Pooling\r\n",
        "\r\n"
      ]
    },
    {
      "cell_type": "code",
      "metadata": {
        "colab": {
          "base_uri": "https://localhost:8080/"
        },
        "id": "TiVQ2trXei3w",
        "outputId": "699c4eaa-2c5e-4860-c6c6-cf1463643bdf"
      },
      "source": [
        "print(test_labels[:100])"
      ],
      "execution_count": 11,
      "outputs": [
        {
          "output_type": "stream",
          "text": [
            "[9 2 1 1 6 1 4 6 5 7 4 5 7 3 4 1 2 4 8 0 2 5 7 9 1 4 6 0 9 3 8 8 3 3 8 0 7\n",
            " 5 7 9 6 1 3 7 6 7 2 1 2 2 4 4 5 8 2 2 8 4 8 0 7 7 8 5 1 1 2 3 9 8 7 0 2 6\n",
            " 2 3 1 2 8 4 1 8 5 9 5 0 3 2 0 6 5 3 6 7 1 8 0 1 4 2]\n"
          ],
          "name": "stdout"
        }
      ]
    },
    {
      "cell_type": "code",
      "metadata": {
        "colab": {
          "base_uri": "https://localhost:8080/",
          "height": 268
        },
        "id": "i6DeFRJMet9_",
        "outputId": "110f648a-4699-4929-dac1-463295d19d29"
      },
      "source": [
        "import matplotlib.pyplot as plt \r\n",
        "f, axarr = plt.subplots(3, 4)\r\n",
        "first_img = 0\r\n",
        "second_img = 7\r\n",
        "third_img = 26\r\n",
        "convolution_number = 32\r\n",
        "\r\n",
        "# 기존의 모델 생성과는 다른 방법 \r\n",
        "from tensorflow.keras import models\r\n",
        "layer_outputs = [layer.output for layer in model.layers]\r\n",
        "activation_model = tf.keras.models.Model(inputs = model.input, outputs = layer_outputs)\r\n",
        "\r\n",
        "for x in range(0, 4):\r\n",
        "  f1 = activation_model.predict(test_imgs[first_img].reshape(1, 28, 28, 1))[x]\r\n",
        "  axarr[0, x].imshow(f1[0, : , :, convolution_number], cmap='inferno')\r\n",
        "  axarr[0, x].grid(False)\r\n",
        "\r\n",
        "  f2 = activation_model.predict(test_imgs[second_img].reshape(1, 28, 28, 1))[x]\r\n",
        "  axarr[1, x].imshow(f2[0, : , :, convolution_number], cmap='inferno')\r\n",
        "  axarr[0, x].grid(False)\r\n",
        "\r\n",
        "  f3 = activation_model.predict(test_imgs[third_img].reshape(1, 28, 28, 1))[x]\r\n",
        "  axarr[2, x].imshow(f3[0, : , : , convolution_number], cmap='inferno')\r\n",
        "  axarr[2, x].grid(False)\r\n",
        "\r\n"
      ],
      "execution_count": 16,
      "outputs": [
        {
          "output_type": "display_data",
          "data": {
            "image/png": "[encoded data removed]",
            "text/plain": [
              "<Figure size 432x288 with 12 Axes>"
            ]
          },
          "metadata": {
            "tags": [],
            "needs_background": "light"
          }
        }
      ]
    },
    {
      "cell_type": "markdown",
      "metadata": {
        "id": "k_TtPJQ9iz7J"
      },
      "source": [
        "# exercise \r\n",
        "\r\n",
        "기존 정확도 98%, epoch당 35초 소요 \r\n",
        "\r\n",
        "1. convolution 개수 수정\r\n",
        "  \r\n",
        "   : 64로 늘린 경우 epoch당 53초 소요, train set에서는 보다 더 높은 정확도가 나오지만 test는 별 차이 없음 (overfitting 된 것으로 추정)  \r\n",
        "   : 1로 줄인 경우 epoch 당 15초 소요, 정확도 97%로 낮음 \r\n",
        "\r\n",
        "\r\n",
        "2. final convolution 제거\r\n",
        "   \r\n",
        "   : 현재도 컨볼루션 레이어는 하나밖에 없는데?\r\n",
        "\r\n",
        "\r\n",
        "3. convolution 추가 \r\n",
        "\r\n",
        "  : 32짜리 convolution 하나 더 추가했을 때(pooling도) 10초 정도 더 걸림, 정확도 큰 차이 없음 (이미지가 단순하기 때문이지 않을까)  \r\n",
        "\r\n",
        "\r\n",
        "4. 첫번째 컨볼루션 빼고 삭제 \r\n",
        "\r\n",
        "\r\n",
        "5. 콜백 추가\r\n",
        "\r\n",
        "pooling layer도 convolution layer로 봐야하는가?\r\n"
      ]
    },
    {
      "cell_type": "code",
      "metadata": {
        "colab": {
          "base_uri": "https://localhost:8080/"
        },
        "id": "CkvU0_Fmir6g",
        "outputId": "c570e41d-396d-41b6-d477-d3392786aa89"
      },
      "source": [
        "import tensorflow as tf\r\n",
        "print(tf.__version__)\r\n",
        "\r\n",
        "class myCallback(tf.keras.callbacks.Callback):\r\n",
        "  def on_epoch_end(self, epoch, logs={}):\r\n",
        "    if logs.get('accuracy') >= 0.99:\r\n",
        "      print('\\nReached 99% of accuracy')\r\n",
        "      self.model.stop_training = True\r\n",
        "\r\n",
        "callbacks = myCallback()\r\n",
        "mnist = tf.keras.datasets.mnist\r\n",
        "(training_images, training_labels), (test_images, test_labels) = mnist.load_data()\r\n",
        "training_images=training_images.reshape(60000, 28, 28, 1)\r\n",
        "training_images=training_images / 255.0\r\n",
        "test_images = test_images.reshape(10000, 28, 28, 1)\r\n",
        "test_images=test_images/255.0\r\n",
        "\r\n",
        "model = tf.keras.models.Sequential([\r\n",
        "  tf.keras.layers.Conv2D(32, (3,3), activation='relu', input_shape=(28, 28, 1)),\r\n",
        "  tf.keras.layers.MaxPooling2D(2, 2),\r\n",
        "  tf.keras.layers.Conv2D(32, (3,3), activation='relu'),\r\n",
        "  tf.keras.layers.MaxPooling2D(2, 2),\r\n",
        "  tf.keras.layers.Flatten(),\r\n",
        "  tf.keras.layers.Dense(128, activation='relu'),\r\n",
        "  tf.keras.layers.Dense(10, activation='softmax')\r\n",
        "])\r\n",
        "\r\n",
        "model.compile(optimizer='adam', loss='sparse_categorical_crossentropy', metrics=['accuracy'])\r\n",
        "model.fit(training_images, training_labels, epochs=10, callbacks=[callbacks])\r\n",
        "test_loss, test_acc = model.evaluate(test_images, test_labels)\r\n",
        "print(test_acc)"
      ],
      "execution_count": 14,
      "outputs": [
        {
          "output_type": "stream",
          "text": [
            "2.4.0\n",
            "Epoch 1/10\n",
            "1875/1875 [==============================] - 43s 23ms/step - loss: 0.3293 - accuracy: 0.8974\n",
            "Epoch 2/10\n",
            "1875/1875 [==============================] - 41s 22ms/step - loss: 0.0505 - accuracy: 0.9850\n",
            "Epoch 3/10\n",
            "1875/1875 [==============================] - 42s 23ms/step - loss: 0.0311 - accuracy: 0.9897\n",
            "Epoch 4/10\n",
            "1875/1875 [==============================] - 42s 22ms/step - loss: 0.0236 - accuracy: 0.9927\n",
            "\n",
            "Reached 99% of accuracy\n",
            "313/313 [==============================] - 3s 8ms/step - loss: 0.0329 - accuracy: 0.9886\n",
            "0.9886000156402588\n"
          ],
          "name": "stdout"
        }
      ]
    }
  ]
}