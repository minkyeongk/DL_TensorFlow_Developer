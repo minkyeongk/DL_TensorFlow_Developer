{
  "nbformat": 4,
  "nbformat_minor": 0,
  "metadata": {
    "colab": {
      "name": "week 2_notebook practice.ipynb",
      "provenance": [],
      "collapsed_sections": [],
      "authorship_tag": "ABX9TyN6Q+VFCzVXUOXtSFYFh+pK",
      "include_colab_link": true
    },
    "kernelspec": {
      "name": "python3",
      "display_name": "Python 3"
    }
  },
  "cells": [
    {
      "cell_type": "markdown",
      "metadata": {
        "id": "view-in-github",
        "colab_type": "text"
      },
      "source": [
        "<a href=\"https://colab.research.google.com/github/minkyeongk/DL_TensorFlow_Developer/blob/main/1.%20Introduction%20to%20TensorFlow%20for%20Artificial%20Intelligence%2C%20Machine%20Learning%2C%20and%20Deep%20Learning/week_2/week_2_notebook_practice.ipynb\" target=\"_parent\"><img src=\"https://colab.research.google.com/assets/colab-badge.svg\" alt=\"Open In Colab\"/></a>"
      ]
    },
    {
      "cell_type": "markdown",
      "metadata": {
        "id": "oiwaDYAEzm9c"
      },
      "source": [
        "# Beyond Hello World, A Computer Vision Example"
      ]
    },
    {
      "cell_type": "code",
      "metadata": {
        "colab": {
          "base_uri": "https://localhost:8080/",
          "height": 1000
        },
        "id": "R6i-TjgtjnAs",
        "outputId": "cff5fbcd-c909-4df4-c4f6-047c352b3923"
      },
      "source": [
        "import tensorflow as tf\r\n",
        "print(tf.__version__)   # tensorflow 2.4\r\n",
        "\r\n",
        "mnist = tf.keras.datasets.fashion_mnist     # tf keras datasets API 로 제공됨 \r\n",
        "(train_imgs, train_labels), (test_imgs, test_labels) = mnist.load_data()        # API로 불러온 object에서 데이터 불러오기 \r\n",
        "\r\n",
        "import numpy as np\r\n",
        "np.set_printoptions(linewidth=200)\r\n",
        "import matplotlib.pyplot as plt\r\n",
        "plt.imshow(train_imgs[0])  # 원본 이미지 보여주는 코드 \r\n",
        "print(train_labels[0])\r\n",
        "print(train_imgs[0])\r\n",
        "\r\n",
        "# 0~255 사이의 값을 0과 1사이의 값으로 nomalize, 연산의 이점 \r\n",
        "train_imgs = train_imgs / 255.0\r\n",
        "test_imgs = test_imgs / 255.0\r\n",
        "\r\n",
        "model = tf.keras.models.Sequential([tf.keras.layers.Flatten(),       # Sequential: 레이어의 시퀀스를 정의 / Flatten: square 이미지를 1차원으로 변환 \r\n",
        "                                   tf.keras.layers.Dense(128, activation=tf.nn.relu),   # Dense: layer of neurons 추가  \r\n",
        "                                   tf.keras.layers.Dense(10, activation=tf.nn.softmax)])\r\n",
        "# 각 layer는 각자의 역할을 알려주는 activation 함수를 필요로 함\r\n",
        "# Relu: x가 0 이상이면 x 반환, 아니면 0 반환\r\n",
        "# softmax: 가장 큰 값을 뽑아준다 ex) [0.1, 0.1, 0.05, 0.1, 9.5, 0.1, 0.05, 0.05, 0.05] -> [0,0,0,0,1,0,0,0,0]\r\n",
        "#           코딩을 줄여주기 위함\r\n",
        "\r\n",
        "model.compile(optimizer = tf.optimizers.Adam(),\r\n",
        "              loss = 'sparse_categorical_crossentropy',\r\n",
        "              metrics=['accuracy'])\r\n",
        "\r\n",
        "model.fit(train_imgs, train_labels, epochs=5)\r\n",
        "\r\n",
        "model.evaluate(test_imgs, test_labels)    # test data에 대한 loss와 accuracy 출력  "
      ],
      "execution_count": 6,
      "outputs": [
        {
          "output_type": "stream",
          "text": [
            "2.4.0\n",
            "9\n",
            "[[  0   0   0   0   0   0   0   0   0   0   0   0   0   0   0   0   0   0   0   0   0   0   0   0   0   0   0   0]\n",
            " [  0   0   0   0   0   0   0   0   0   0   0   0   0   0   0   0   0   0   0   0   0   0   0   0   0   0   0   0]\n",
            " [  0   0   0   0   0   0   0   0   0   0   0   0   0   0   0   0   0   0   0   0   0   0   0   0   0   0   0   0]\n",
            " [  0   0   0   0   0   0   0   0   0   0   0   0   1   0   0  13  73   0   0   1   4   0   0   0   0   1   1   0]\n",
            " [  0   0   0   0   0   0   0   0   0   0   0   0   3   0  36 136 127  62  54   0   0   0   1   3   4   0   0   3]\n",
            " [  0   0   0   0   0   0   0   0   0   0   0   0   6   0 102 204 176 134 144 123  23   0   0   0   0  12  10   0]\n",
            " [  0   0   0   0   0   0   0   0   0   0   0   0   0   0 155 236 207 178 107 156 161 109  64  23  77 130  72  15]\n",
            " [  0   0   0   0   0   0   0   0   0   0   0   1   0  69 207 223 218 216 216 163 127 121 122 146 141  88 172  66]\n",
            " [  0   0   0   0   0   0   0   0   0   1   1   1   0 200 232 232 233 229 223 223 215 213 164 127 123 196 229   0]\n",
            " [  0   0   0   0   0   0   0   0   0   0   0   0   0 183 225 216 223 228 235 227 224 222 224 221 223 245 173   0]\n",
            " [  0   0   0   0   0   0   0   0   0   0   0   0   0 193 228 218 213 198 180 212 210 211 213 223 220 243 202   0]\n",
            " [  0   0   0   0   0   0   0   0   0   1   3   0  12 219 220 212 218 192 169 227 208 218 224 212 226 197 209  52]\n",
            " [  0   0   0   0   0   0   0   0   0   0   6   0  99 244 222 220 218 203 198 221 215 213 222 220 245 119 167  56]\n",
            " [  0   0   0   0   0   0   0   0   0   4   0   0  55 236 228 230 228 240 232 213 218 223 234 217 217 209  92   0]\n",
            " [  0   0   1   4   6   7   2   0   0   0   0   0 237 226 217 223 222 219 222 221 216 223 229 215 218 255  77   0]\n",
            " [  0   3   0   0   0   0   0   0   0  62 145 204 228 207 213 221 218 208 211 218 224 223 219 215 224 244 159   0]\n",
            " [  0   0   0   0  18  44  82 107 189 228 220 222 217 226 200 205 211 230 224 234 176 188 250 248 233 238 215   0]\n",
            " [  0  57 187 208 224 221 224 208 204 214 208 209 200 159 245 193 206 223 255 255 221 234 221 211 220 232 246   0]\n",
            " [  3 202 228 224 221 211 211 214 205 205 205 220 240  80 150 255 229 221 188 154 191 210 204 209 222 228 225   0]\n",
            " [ 98 233 198 210 222 229 229 234 249 220 194 215 217 241  65  73 106 117 168 219 221 215 217 223 223 224 229  29]\n",
            " [ 75 204 212 204 193 205 211 225 216 185 197 206 198 213 240 195 227 245 239 223 218 212 209 222 220 221 230  67]\n",
            " [ 48 203 183 194 213 197 185 190 194 192 202 214 219 221 220 236 225 216 199 206 186 181 177 172 181 205 206 115]\n",
            " [  0 122 219 193 179 171 183 196 204 210 213 207 211 210 200 196 194 191 195 191 198 192 176 156 167 177 210  92]\n",
            " [  0   0  74 189 212 191 175 172 175 181 185 188 189 188 193 198 204 209 210 210 211 188 188 194 192 216 170   0]\n",
            " [  2   0   0   0  66 200 222 237 239 242 246 243 244 221 220 193 191 179 182 182 181 176 166 168  99  58   0   0]\n",
            " [  0   0   0   0   0   0   0  40  61  44  72  41  35   0   0   0   0   0   0   0   0   0   0   0   0   0   0   0]\n",
            " [  0   0   0   0   0   0   0   0   0   0   0   0   0   0   0   0   0   0   0   0   0   0   0   0   0   0   0   0]\n",
            " [  0   0   0   0   0   0   0   0   0   0   0   0   0   0   0   0   0   0   0   0   0   0   0   0   0   0   0   0]]\n",
            "Epoch 1/5\n",
            "1875/1875 [==============================] - 4s 2ms/step - loss: 0.6387 - accuracy: 0.7816\n",
            "Epoch 2/5\n",
            "1875/1875 [==============================] - 3s 2ms/step - loss: 0.3817 - accuracy: 0.8631\n",
            "Epoch 3/5\n",
            "1875/1875 [==============================] - 4s 2ms/step - loss: 0.3447 - accuracy: 0.8764\n",
            "Epoch 4/5\n",
            "1875/1875 [==============================] - 4s 2ms/step - loss: 0.3156 - accuracy: 0.8845\n",
            "Epoch 5/5\n",
            "1875/1875 [==============================] - 4s 2ms/step - loss: 0.2973 - accuracy: 0.8902\n",
            "313/313 [==============================] - 0s 1ms/step - loss: 0.3504 - accuracy: 0.8728\n"
          ],
          "name": "stdout"
        },
        {
          "output_type": "execute_result",
          "data": {
            "text/plain": [
              "[0.35039496421813965, 0.8727999925613403]"
            ]
          },
          "metadata": {
            "tags": []
          },
          "execution_count": 6
        },
        {
          "output_type": "display_data",
          "data": {
            "image/png": "[encoded data removed]",
            "text/plain": [
              "<Figure size 432x288 with 1 Axes>"
            ]
          },
          "metadata": {
            "tags": [],
            "needs_background": "light"
          }
        }
      ]
    },
    {
      "cell_type": "markdown",
      "metadata": {
        "id": "sT_xx9aFkl1d"
      },
      "source": [
        "**exercise 1**"
      ]
    },
    {
      "cell_type": "code",
      "metadata": {
        "colab": {
          "base_uri": "https://localhost:8080/"
        },
        "id": "SiSAhSNTkuej",
        "outputId": "c05586c6-5088-4af3-cd8b-a0f3f49785d4"
      },
      "source": [
        "classifications = model.predict(test_imgs)\r\n",
        "print(classifications[0]) # 이 아이템이 10가지 각 클래스일 확률  \r\n",
        "print(test_labels[0])\r\n",
        "# 리스트의 9번째 값이 제일 큼 (인덱스 0부터 시작) > 따라서 0번째 이미지는 label9인 ankle boot"
      ],
      "execution_count": 10,
      "outputs": [
        {
          "output_type": "stream",
          "text": [
            "[3.3519902e-06 3.5274017e-08 1.1624362e-06 6.0596204e-07 1.2431044e-06 8.8487277e-03 1.0796257e-05 3.4803949e-02 1.1043896e-05 9.5631903e-01]\n",
            "9\n"
          ],
          "name": "stdout"
        }
      ]
    },
    {
      "cell_type": "markdown",
      "metadata": {
        "id": "HNgkfgzIn024"
      },
      "source": [
        "exercise 2"
      ]
    },
    {
      "cell_type": "code",
      "metadata": {
        "colab": {
          "base_uri": "https://localhost:8080/"
        },
        "id": "5ItK_EIon1Bh",
        "outputId": "b414f9f3-c22e-4296-ee05-b96a4813761b"
      },
      "source": [
        "import tensorflow as tf \r\n",
        "print(tf.__version__)\r\n",
        "\r\n",
        "mnist = tf.keras.datasets.mnist\r\n",
        "(train_imgs, train_labels), (test_imgs, test_labels) = mnist.load_data()\r\n",
        "\r\n",
        "train_imgs = train_imgs / 255.0\r\n",
        "test_imgs = test_imgs / 255.0\r\n",
        "\r\n",
        "# hidden layer의 unit을 늘림 \r\n",
        "model = tf.keras.models.Sequential([tf.keras.layers.Flatten(),\r\n",
        "                                    tf.keras.layers.Dense(1024, activation=tf.nn.relu),\r\n",
        "                                    tf.keras.layers.Dense(10, activation=tf.nn.softmax)])\r\n",
        "model.compile(optimizer= 'adam',\r\n",
        "              loss = 'sparse_categorical_crossentropy')\r\n",
        "\r\n",
        "model.fit(train_imgs, train_labels, epochs=5)\r\n",
        "model.evaluate(test_imgs, test_labels)\r\n",
        "\r\n",
        "classifications = model.predict(test_imgs)\r\n",
        "print(classifications[0])\r\n",
        "print(test_labels[0])\r\n",
        "\r\n",
        "# 유닛 수 증가 > 시간이 더 오래걸리지만 정확도가 높아짐 \r\n",
        "# adding more Neurons > more calculations > slowing down the process  "
      ],
      "execution_count": 12,
      "outputs": [
        {
          "output_type": "stream",
          "text": [
            "2.4.0\n",
            "Epoch 1/5\n",
            "1875/1875 [==============================] - 13s 7ms/step - loss: 0.3067\n",
            "Epoch 2/5\n",
            "1875/1875 [==============================] - 13s 7ms/step - loss: 0.0729\n",
            "Epoch 3/5\n",
            "1875/1875 [==============================] - 13s 7ms/step - loss: 0.0464\n",
            "Epoch 4/5\n",
            "1875/1875 [==============================] - 13s 7ms/step - loss: 0.0303\n",
            "Epoch 5/5\n",
            "1875/1875 [==============================] - 13s 7ms/step - loss: 0.0230\n",
            "313/313 [==============================] - 1s 4ms/step - loss: 0.0767\n",
            "[4.8464701e-11 1.3235640e-08 2.8530871e-09 1.1709471e-05 8.8176938e-13 7.5627982e-10 8.5175607e-14 9.9998617e-01 1.2541097e-09 2.1586477e-06]\n",
            "7\n"
          ],
          "name": "stdout"
        }
      ]
    },
    {
      "cell_type": "markdown",
      "metadata": {
        "id": "3afO0H9crM7b"
      },
      "source": [
        "**exercise 3**\r\n",
        "\r\n",
        ": flatten 안해주면 data shape로 인해 error 발생 \r\n",
        "\r\n",
        "the first layer in your network should be the same shape as your data"
      ]
    },
    {
      "cell_type": "markdown",
      "metadata": {
        "id": "OO1VIZX1r858"
      },
      "source": [
        "**exercise 4**\r\n",
        "\r\n",
        ": output layer의 unit 개수를 10이 아닌 다른 수로 설정하면 error 발생 \r\n",
        "\r\n",
        "the number of neurons in the last layer should match the number of classes you are classifying for."
      ]
    },
    {
      "cell_type": "markdown",
      "metadata": {
        "id": "L650S6i4sal8"
      },
      "source": [
        "**exercise 5**\r\n",
        "\r\n",
        ": additional hidden layer를 추가할 경우 별다른 차이 없음, 이 데이터는 간단한 데이터이기 때문\r\n",
        "\r\n",
        "이후 색이 있는 이미지 같이 복잡한 데이터를 다룰 때는 extra layer가 필수적일 수 있다."
      ]
    },
    {
      "cell_type": "markdown",
      "metadata": {
        "id": "nlFLIbv0tszB"
      },
      "source": [
        "**exercise 6**\r\n",
        "\r\n",
        ": epoch 수 변경 \r\n",
        "\r\n",
        "epoch 수를 늘리면 성능 향상을 보일 수 있음, 하지만 overfitting으로 오히려 loss가 증가할 수도 있음 "
      ]
    },
    {
      "cell_type": "markdown",
      "metadata": {
        "id": "HQvQgzfrthdI"
      },
      "source": [
        "**exercise 7**\r\n",
        "\r\n",
        ": nomalize 단계를 skip 한다면?\r\n",
        "\r\n",
        "결과가 크게 다르지 않은데..?"
      ]
    },
    {
      "cell_type": "markdown",
      "metadata": {
        "id": "EZwf6QfAuhnK"
      },
      "source": [
        "exercise 8\r\n",
        "\r\n",
        ": 정확도가 원하는 값에 다다랐을 때 그 이상의 epoch를 중단하도록 하는 방법 \r\n",
        "\r\n",
        "callback 활용 "
      ]
    },
    {
      "cell_type": "code",
      "metadata": {
        "colab": {
          "base_uri": "https://localhost:8080/"
        },
        "id": "GZT8L-JQqBFB",
        "outputId": "e26a144a-dad5-4a19-ab6e-a1700d01f55d"
      },
      "source": [
        "import tensorflow as tf \r\n",
        "print(tf.__version__)\r\n",
        "\r\n",
        "class myCallback(tf.keras.callbacks.Callback):\r\n",
        "  def on_epoch_end(self, epoch, logs={}):\r\n",
        "    if(logs.get('loss') < 0.4):\r\n",
        "      print(\"\\nReached 60% accuracy so cancelling training\")\r\n",
        "      self.model.stop_training = True \r\n",
        "\r\n",
        "callbacks = myCallback()\r\n",
        "mnist = tf.keras.datasets.fashion_mnist\r\n",
        "(train_imgs, train_labels), (test_imgs, test_labels) = mnist.load_data()\r\n",
        "\r\n",
        "train_imgs = train_imgs / 255.0\r\n",
        "test_imgs = test_imgs / 255.0 \r\n",
        "\r\n",
        "model = tf.keras.models.Sequential([tf.keras.layers.Flatten(),\r\n",
        "                                    tf.keras.layers.Dense(512, activation=tf.nn.relu),\r\n",
        "                                    tf.keras.layers.Dense(10, activation=tf.nn.softmax)])\r\n",
        "\r\n",
        "model.compile(optimizer='adam', loss='sparse_categorical_crossentropy')\r\n",
        "model.fit(train_imgs, train_labels, epochs=5, callbacks=[callbacks])"
      ],
      "execution_count": 14,
      "outputs": [
        {
          "output_type": "stream",
          "text": [
            "2.4.0\n",
            "Epoch 1/5\n",
            "1875/1875 [==============================] - 7s 4ms/step - loss: 0.5972\n",
            "Epoch 2/5\n",
            "1875/1875 [==============================] - 7s 4ms/step - loss: 0.3703\n",
            "\n",
            "Reached 60% accuracy so cancelling training\n"
          ],
          "name": "stdout"
        },
        {
          "output_type": "execute_result",
          "data": {
            "text/plain": [
              "<tensorflow.python.keras.callbacks.History at 0x7fd7005e2898>"
            ]
          },
          "metadata": {
            "tags": []
          },
          "execution_count": 14
        }
      ]
    }
  ]
}